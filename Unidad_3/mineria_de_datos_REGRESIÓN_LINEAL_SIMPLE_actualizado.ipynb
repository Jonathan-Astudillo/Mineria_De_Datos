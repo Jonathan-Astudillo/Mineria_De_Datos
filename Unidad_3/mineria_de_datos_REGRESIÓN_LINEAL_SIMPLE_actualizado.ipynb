{
  "nbformat": 4,
  "nbformat_minor": 0,
  "metadata": {
    "colab": {
      "provenance": []
    },
    "kernelspec": {
      "name": "python3",
      "display_name": "Python 3"
    },
    "language_info": {
      "name": "python"
    }
  },
  "cells": [
    {
      "cell_type": "markdown",
      "source": [
        "**REGRESIÓN LINEAL**\n",
        "\n",
        "La regresión lineal es una técnica estadística que se utiliza para modelar la relación entre una variable dependiente y una o más variables independientes. El objetivo de la regresión lineal es encontrar una línea recta que mejor represente la relación entre estas variables."
      ],
      "metadata": {
        "id": "BxBKMqinn-SI"
      }
    },
    {
      "cell_type": "markdown",
      "source": [
        "**Regresión lineal simple:** Este tipo de regresión lineal involucra solo dos variables, una variable independiente y una variable dependiente. La relación entre las dos variables se modela mediante una línea recta."
      ],
      "metadata": {
        "id": "w2_FV2lKok-X"
      }
    },
    {
      "cell_type": "markdown",
      "source": [
        "Supongamos que se tiene un conjunto de datos que muestra la cantidad de tiempo que los estudiantes pasan estudiando y sus calificaciones en un examen. El objetivo es determinar si hay una relación lineal entre el tiempo de estudio y las calificaciones, y si es así, utilizar la regresión lineal para predecir las calificaciones de un estudiante en función del tiempo que pasan estudiando."
      ],
      "metadata": {
        "id": "5FL-8nUpkfTH"
      }
    },
    {
      "cell_type": "markdown",
      "source": [
        "Primero, se deben importar las bibliotecas necesarias y cargar los datos en un DataFrame de Pandas:"
      ],
      "metadata": {
        "id": "iC-9QQ2TkxeM"
      }
    },
    {
      "cell_type": "code",
      "execution_count": 1,
      "metadata": {
        "colab": {
          "base_uri": "https://localhost:8080/"
        },
        "id": "LtoGJ6SChWvy",
        "outputId": "ace62624-3869-498e-e895-f75bdebea85f"
      },
      "outputs": [
        {
          "output_type": "stream",
          "name": "stdout",
          "text": [
            "    Tiempo  Calificación\n",
            "0        1            60\n",
            "1        2            70\n",
            "2        3            75\n",
            "3        4            80\n",
            "4        5            85\n",
            "5        6            90\n",
            "6        7            92\n",
            "7        8            94\n",
            "8        9            96\n",
            "9       10            98\n",
            "10      11            85\n",
            "11      12            87\n",
            "12      13            89\n",
            "13      14            91\n",
            "14      15            93\n",
            "15      16            95\n",
            "16      17            97\n",
            "17      18            99\n",
            "18      19            92\n",
            "19      20            93\n",
            "20      21            94\n",
            "21      22            95\n",
            "22      23            96\n",
            "23      24            97\n",
            "24      25            98\n",
            "25      26            99\n",
            "26      27            85\n",
            "27      28            86\n",
            "28      29            87\n",
            "29      30            88\n",
            "30      31            89\n",
            "31      32            90\n",
            "32      33            91\n",
            "33      34            92\n",
            "34      35            93\n",
            "35      36            94\n",
            "36      37            95\n",
            "37      38            96\n",
            "38      39            97\n",
            "39      40            98\n",
            "40      41            99\n",
            "41      42            92\n",
            "42      43            93\n",
            "43      44            94\n",
            "44      45            95\n",
            "45      46            96\n",
            "46      47            97\n",
            "47      48            98\n",
            "48      49            99\n",
            "49      50            97\n",
            "50      51            98\n",
            "51      52            99\n",
            "52      53            95\n",
            "53      54            96\n",
            "54      55            97\n",
            "55      56            98\n",
            "56      57            92\n",
            "57      58            99\n",
            "58      59            93\n",
            "59      60            87\n"
          ]
        }
      ],
      "source": [
        "import pandas as pd\n",
        "import numpy as np\n",
        "from sklearn.linear_model import LinearRegression\n",
        "import matplotlib.pyplot as plt\n",
        "\n",
        "# cargar los datos\n",
        "\n",
        "datos = {\n",
        "    'Tiempo': [1, 2, 3, 4, 5, 6, 7, 8, 9, 10, 11, 12, 13, 14, 15, 16, 17, 18, 19, 20,21, 22, 23, 24, 25, 26, 27, 28, 29, 30, 31, 32, 33, 34, 35, 36, 37, 38, 39, 40, 41, 42, 43, 44, 45, 46, 47, 48, 49, 50, 51, 52, 53, 54, 55, 56, 57, 58, 59, 60],\n",
        "    'Calificación':[60, 70, 75, 80, 85, 90, 92, 94, 96, 98, 85, 87, 89, 91, 93, 95,97, 99, 92, 93, 94, 95, 96, 97, 98, 99, 85, 86, 87, 88, 89, 90, 91, 92, 93, 94, 95, 96, 97, 98, 99, 92, 93, 94, 95, 96, 97, 98, 99, 97, 98, 99, 95, 96, 97, 98, 92, 99, 93, 87]\n",
        "}\n",
        "\n",
        "data = pd.DataFrame(datos)\n",
        "\n",
        "data.to_csv(\"datos_estudiantes_Jonnathan.csv\", index=False)\n",
        "# visualizar los primeros registros\n",
        "print(data)"
      ]
    },
    {
      "cell_type": "markdown",
      "source": [
        "El archivo \"datos_estudiantes.csv\" contiene los datos de 10 estudiantes, que se presentan en la siguiente tabla:"
      ],
      "metadata": {
        "id": "sGWTfP7Tk_ge"
      }
    },
    {
      "cell_type": "markdown",
      "source": [
        "Ahora se van a agregar 50 datos más a la lista"
      ],
      "metadata": {
        "id": "ALogtzPPT732"
      }
    },
    {
      "cell_type": "code",
      "source": [
        "# visualizar los primeros registros\n",
        "print(data)"
      ],
      "metadata": {
        "colab": {
          "base_uri": "https://localhost:8080/"
        },
        "id": "Asu8s8WOlH3W",
        "outputId": "7d0b61d1-5164-43f9-9ba8-dbf1165286b8"
      },
      "execution_count": 2,
      "outputs": [
        {
          "output_type": "stream",
          "name": "stdout",
          "text": [
            "    Tiempo  Calificación\n",
            "0        1            60\n",
            "1        2            70\n",
            "2        3            75\n",
            "3        4            80\n",
            "4        5            85\n",
            "5        6            90\n",
            "6        7            92\n",
            "7        8            94\n",
            "8        9            96\n",
            "9       10            98\n",
            "10      11            85\n",
            "11      12            87\n",
            "12      13            89\n",
            "13      14            91\n",
            "14      15            93\n",
            "15      16            95\n",
            "16      17            97\n",
            "17      18            99\n",
            "18      19            92\n",
            "19      20            93\n",
            "20      21            94\n",
            "21      22            95\n",
            "22      23            96\n",
            "23      24            97\n",
            "24      25            98\n",
            "25      26            99\n",
            "26      27            85\n",
            "27      28            86\n",
            "28      29            87\n",
            "29      30            88\n",
            "30      31            89\n",
            "31      32            90\n",
            "32      33            91\n",
            "33      34            92\n",
            "34      35            93\n",
            "35      36            94\n",
            "36      37            95\n",
            "37      38            96\n",
            "38      39            97\n",
            "39      40            98\n",
            "40      41            99\n",
            "41      42            92\n",
            "42      43            93\n",
            "43      44            94\n",
            "44      45            95\n",
            "45      46            96\n",
            "46      47            97\n",
            "47      48            98\n",
            "48      49            99\n",
            "49      50            97\n",
            "50      51            98\n",
            "51      52            99\n",
            "52      53            95\n",
            "53      54            96\n",
            "54      55            97\n",
            "55      56            98\n",
            "56      57            92\n",
            "57      58            99\n",
            "58      59            93\n",
            "59      60            87\n"
          ]
        }
      ]
    },
    {
      "cell_type": "markdown",
      "source": [
        "A continuación, se deben separar las variables independientes (horas de estudio) de la variable dependiente (calificacion):"
      ],
      "metadata": {
        "id": "KfI4iQ8KlNXm"
      }
    },
    {
      "cell_type": "code",
      "source": [
        "# separar las variables independientes y dependiente\n",
        "X = data.iloc[:, :-1].values\n",
        "y = data.iloc[:, 1].values"
      ],
      "metadata": {
        "id": "7h2ZHnM6hkFX"
      },
      "execution_count": 3,
      "outputs": []
    },
    {
      "cell_type": "code",
      "source": [
        "X"
      ],
      "metadata": {
        "colab": {
          "base_uri": "https://localhost:8080/"
        },
        "id": "3hz6Eny6jX5j",
        "outputId": "29ce5961-f676-4314-ff78-8c026da743fd"
      },
      "execution_count": 4,
      "outputs": [
        {
          "output_type": "execute_result",
          "data": {
            "text/plain": [
              "array([[ 1],\n",
              "       [ 2],\n",
              "       [ 3],\n",
              "       [ 4],\n",
              "       [ 5],\n",
              "       [ 6],\n",
              "       [ 7],\n",
              "       [ 8],\n",
              "       [ 9],\n",
              "       [10],\n",
              "       [11],\n",
              "       [12],\n",
              "       [13],\n",
              "       [14],\n",
              "       [15],\n",
              "       [16],\n",
              "       [17],\n",
              "       [18],\n",
              "       [19],\n",
              "       [20],\n",
              "       [21],\n",
              "       [22],\n",
              "       [23],\n",
              "       [24],\n",
              "       [25],\n",
              "       [26],\n",
              "       [27],\n",
              "       [28],\n",
              "       [29],\n",
              "       [30],\n",
              "       [31],\n",
              "       [32],\n",
              "       [33],\n",
              "       [34],\n",
              "       [35],\n",
              "       [36],\n",
              "       [37],\n",
              "       [38],\n",
              "       [39],\n",
              "       [40],\n",
              "       [41],\n",
              "       [42],\n",
              "       [43],\n",
              "       [44],\n",
              "       [45],\n",
              "       [46],\n",
              "       [47],\n",
              "       [48],\n",
              "       [49],\n",
              "       [50],\n",
              "       [51],\n",
              "       [52],\n",
              "       [53],\n",
              "       [54],\n",
              "       [55],\n",
              "       [56],\n",
              "       [57],\n",
              "       [58],\n",
              "       [59],\n",
              "       [60]])"
            ]
          },
          "metadata": {},
          "execution_count": 4
        }
      ]
    },
    {
      "cell_type": "code",
      "source": [
        "y"
      ],
      "metadata": {
        "colab": {
          "base_uri": "https://localhost:8080/"
        },
        "id": "fyt6BnTcjdOd",
        "outputId": "8cdab2e1-76fb-48ba-c627-3fab917812c4"
      },
      "execution_count": 5,
      "outputs": [
        {
          "output_type": "execute_result",
          "data": {
            "text/plain": [
              "array([60, 70, 75, 80, 85, 90, 92, 94, 96, 98, 85, 87, 89, 91, 93, 95, 97,\n",
              "       99, 92, 93, 94, 95, 96, 97, 98, 99, 85, 86, 87, 88, 89, 90, 91, 92,\n",
              "       93, 94, 95, 96, 97, 98, 99, 92, 93, 94, 95, 96, 97, 98, 99, 97, 98,\n",
              "       99, 95, 96, 97, 98, 92, 99, 93, 87])"
            ]
          },
          "metadata": {},
          "execution_count": 5
        }
      ]
    },
    {
      "cell_type": "markdown",
      "source": [
        "Luego, se puede ajustar la línea de regresión utilizando el modelo de regresión lineal de Scikit-learn:"
      ],
      "metadata": {
        "id": "sFIjm6C6lcMb"
      }
    },
    {
      "cell_type": "code",
      "source": [
        "# ajustar el modelo de regresión lineal\n",
        "regressor = LinearRegression()\n",
        "regressor.fit(X, y)"
      ],
      "metadata": {
        "colab": {
          "base_uri": "https://localhost:8080/",
          "height": 75
        },
        "id": "ip2FAZU_jq6-",
        "outputId": "f0a45353-0e87-46a8-d275-bd60a41e5249"
      },
      "execution_count": 6,
      "outputs": [
        {
          "output_type": "execute_result",
          "data": {
            "text/plain": [
              "LinearRegression()"
            ],
            "text/html": [
              "<style>#sk-container-id-1 {color: black;background-color: white;}#sk-container-id-1 pre{padding: 0;}#sk-container-id-1 div.sk-toggleable {background-color: white;}#sk-container-id-1 label.sk-toggleable__label {cursor: pointer;display: block;width: 100%;margin-bottom: 0;padding: 0.3em;box-sizing: border-box;text-align: center;}#sk-container-id-1 label.sk-toggleable__label-arrow:before {content: \"▸\";float: left;margin-right: 0.25em;color: #696969;}#sk-container-id-1 label.sk-toggleable__label-arrow:hover:before {color: black;}#sk-container-id-1 div.sk-estimator:hover label.sk-toggleable__label-arrow:before {color: black;}#sk-container-id-1 div.sk-toggleable__content {max-height: 0;max-width: 0;overflow: hidden;text-align: left;background-color: #f0f8ff;}#sk-container-id-1 div.sk-toggleable__content pre {margin: 0.2em;color: black;border-radius: 0.25em;background-color: #f0f8ff;}#sk-container-id-1 input.sk-toggleable__control:checked~div.sk-toggleable__content {max-height: 200px;max-width: 100%;overflow: auto;}#sk-container-id-1 input.sk-toggleable__control:checked~label.sk-toggleable__label-arrow:before {content: \"▾\";}#sk-container-id-1 div.sk-estimator input.sk-toggleable__control:checked~label.sk-toggleable__label {background-color: #d4ebff;}#sk-container-id-1 div.sk-label input.sk-toggleable__control:checked~label.sk-toggleable__label {background-color: #d4ebff;}#sk-container-id-1 input.sk-hidden--visually {border: 0;clip: rect(1px 1px 1px 1px);clip: rect(1px, 1px, 1px, 1px);height: 1px;margin: -1px;overflow: hidden;padding: 0;position: absolute;width: 1px;}#sk-container-id-1 div.sk-estimator {font-family: monospace;background-color: #f0f8ff;border: 1px dotted black;border-radius: 0.25em;box-sizing: border-box;margin-bottom: 0.5em;}#sk-container-id-1 div.sk-estimator:hover {background-color: #d4ebff;}#sk-container-id-1 div.sk-parallel-item::after {content: \"\";width: 100%;border-bottom: 1px solid gray;flex-grow: 1;}#sk-container-id-1 div.sk-label:hover label.sk-toggleable__label {background-color: #d4ebff;}#sk-container-id-1 div.sk-serial::before {content: \"\";position: absolute;border-left: 1px solid gray;box-sizing: border-box;top: 0;bottom: 0;left: 50%;z-index: 0;}#sk-container-id-1 div.sk-serial {display: flex;flex-direction: column;align-items: center;background-color: white;padding-right: 0.2em;padding-left: 0.2em;position: relative;}#sk-container-id-1 div.sk-item {position: relative;z-index: 1;}#sk-container-id-1 div.sk-parallel {display: flex;align-items: stretch;justify-content: center;background-color: white;position: relative;}#sk-container-id-1 div.sk-item::before, #sk-container-id-1 div.sk-parallel-item::before {content: \"\";position: absolute;border-left: 1px solid gray;box-sizing: border-box;top: 0;bottom: 0;left: 50%;z-index: -1;}#sk-container-id-1 div.sk-parallel-item {display: flex;flex-direction: column;z-index: 1;position: relative;background-color: white;}#sk-container-id-1 div.sk-parallel-item:first-child::after {align-self: flex-end;width: 50%;}#sk-container-id-1 div.sk-parallel-item:last-child::after {align-self: flex-start;width: 50%;}#sk-container-id-1 div.sk-parallel-item:only-child::after {width: 0;}#sk-container-id-1 div.sk-dashed-wrapped {border: 1px dashed gray;margin: 0 0.4em 0.5em 0.4em;box-sizing: border-box;padding-bottom: 0.4em;background-color: white;}#sk-container-id-1 div.sk-label label {font-family: monospace;font-weight: bold;display: inline-block;line-height: 1.2em;}#sk-container-id-1 div.sk-label-container {text-align: center;}#sk-container-id-1 div.sk-container {/* jupyter's `normalize.less` sets `[hidden] { display: none; }` but bootstrap.min.css set `[hidden] { display: none !important; }` so we also need the `!important` here to be able to override the default hidden behavior on the sphinx rendered scikit-learn.org. See: https://github.com/scikit-learn/scikit-learn/issues/21755 */display: inline-block !important;position: relative;}#sk-container-id-1 div.sk-text-repr-fallback {display: none;}</style><div id=\"sk-container-id-1\" class=\"sk-top-container\"><div class=\"sk-text-repr-fallback\"><pre>LinearRegression()</pre><b>In a Jupyter environment, please rerun this cell to show the HTML representation or trust the notebook. <br />On GitHub, the HTML representation is unable to render, please try loading this page with nbviewer.org.</b></div><div class=\"sk-container\" hidden><div class=\"sk-item\"><div class=\"sk-estimator sk-toggleable\"><input class=\"sk-toggleable__control sk-hidden--visually\" id=\"sk-estimator-id-1\" type=\"checkbox\" checked><label for=\"sk-estimator-id-1\" class=\"sk-toggleable__label sk-toggleable__label-arrow\">LinearRegression</label><div class=\"sk-toggleable__content\"><pre>LinearRegression()</pre></div></div></div></div></div>"
            ]
          },
          "metadata": {},
          "execution_count": 6
        }
      ]
    },
    {
      "cell_type": "markdown",
      "source": [
        "Finalmente, se puede visualizar la línea de regresión y predecir la calificación del estudiante en función de las horas que estudia:"
      ],
      "metadata": {
        "id": "umVgczTslmb_"
      }
    },
    {
      "cell_type": "code",
      "source": [
        "# visualizar la línea de regresión\n",
        "plt.scatter(X, y, color='red')\n",
        "plt.plot(X, regressor.predict(X), color='blue')\n",
        "plt.title('Tiempo de estudio vs Calificación del porcentaje')\n",
        "plt.xlabel('Tiempo de estudio')\n",
        "plt.ylabel('Calificación')\n",
        "plt.show()\n",
        "\n",
        "# predecir la calificación de un estudiante que invierte 6 horas de studio\n",
        "horas_estudio = [[8]]\n",
        "print(\"Calificación predicha:\", regressor.predict(horas_estudio))"
      ],
      "metadata": {
        "colab": {
          "base_uri": "https://localhost:8080/",
          "height": 489
        },
        "id": "j6k44Ve2jxOX",
        "outputId": "3dabcab8-2fe3-452c-80d3-ede4166fa62b"
      },
      "execution_count": 7,
      "outputs": [
        {
          "output_type": "display_data",
          "data": {
            "text/plain": [
              "<Figure size 640x480 with 1 Axes>"
            ],
            "image/png": "[encoded data removed]"
          },
          "metadata": {}
        },
        {
          "output_type": "stream",
          "name": "stdout",
          "text": [
            "Calificación predicha: [87.42928591]\n"
          ]
        }
      ]
    },
    {
      "cell_type": "markdown",
      "source": [
        "**EVALUACIÓN DEL MODELO**\n",
        "\n",
        "Para evaluar la calidad de un modelo de regresión lineal, hay varias métricas que se pueden utilizar. Aquí se presentan algunas de las más comunes:"
      ],
      "metadata": {
        "id": "9F3ynKONm0wP"
      }
    },
    {
      "cell_type": "markdown",
      "source": [
        "**1. Error cuadrático medio (MSE):** Esta métrica calcula el promedio de los errores al cuadrado entre las predicciones y los valores reales. Un MSE más bajo indica un mejor ajuste del modelo."
      ],
      "metadata": {
        "id": "ouUR1jR2m_z_"
      }
    },
    {
      "cell_type": "code",
      "source": [
        "from sklearn.metrics import mean_squared_error\n",
        "\n",
        "# calcular el MSE\n",
        "y_pred = regressor.predict(X)\n",
        "mse = mean_squared_error(y, y_pred)\n",
        "print(\"MSE:\", mse)"
      ],
      "metadata": {
        "colab": {
          "base_uri": "https://localhost:8080/"
        },
        "id": "9mnD_vcMm6Vm",
        "outputId": "f867dd7a-bc66-4e4e-a993-22a42698b427"
      },
      "execution_count": 8,
      "outputs": [
        {
          "output_type": "stream",
          "name": "stdout",
          "text": [
            "MSE: 36.98656432342318\n"
          ]
        }
      ]
    },
    {
      "cell_type": "markdown",
      "source": [
        "**2. Coeficiente de determinación (R2):** Esta métrica mide la proporción de la varianza en la variable dependiente que se puede explicar por la variable independiente. Un R2 más alto indica un mejor ajuste del modelo."
      ],
      "metadata": {
        "id": "j9C2wEQ7nOkq"
      }
    },
    {
      "cell_type": "code",
      "source": [
        "from sklearn.metrics import r2_score\n",
        "\n",
        "# calcular el R2\n",
        "r2 = r2_score(y, y_pred)\n",
        "print(\"R2:\", r2)"
      ],
      "metadata": {
        "colab": {
          "base_uri": "https://localhost:8080/"
        },
        "id": "fhmCMGSpnW8i",
        "outputId": "f676af7c-25a6-4221-8238-3aac20aafde4"
      },
      "execution_count": 9,
      "outputs": [
        {
          "output_type": "stream",
          "name": "stdout",
          "text": [
            "R2: 0.2712605338131875\n"
          ]
        }
      ]
    },
    {
      "cell_type": "markdown",
      "source": [
        "**3. Gráfico de residuos:** Un gráfico de residuos muestra la diferencia entre los valores reales y las predicciones en función de las variables independientes. Si las predicciones son precisas, los residuos deberían estar distribuidos aleatoriamente alrededor de cero. Si hay un patrón en los residuos, puede ser una indicación de que el modelo no está capturando completamente las relaciones entre las variables."
      ],
      "metadata": {
        "id": "rJH7GkaDna5Y"
      }
    },
    {
      "cell_type": "code",
      "source": [
        "# crear un gráfico de residuos\n",
        "residuos = y - y_pred\n",
        "plt.scatter(X, residuos)\n",
        "plt.axhline(y=0, color='black', linestyle='--')\n",
        "plt.title('Gráfico de residuos')\n",
        "plt.xlabel('Horas trabajadas')\n",
        "plt.ylabel('Residuos')\n",
        "\n",
        "plt.show()"
      ],
      "metadata": {
        "colab": {
          "base_uri": "https://localhost:8080/",
          "height": 472
        },
        "id": "AT2xDZZxnhGC",
        "outputId": "d3812c8f-55a9-418c-9147-801a6aeac5c5"
      },
      "execution_count": 10,
      "outputs": [
        {
          "output_type": "display_data",
          "data": {
            "text/plain": [
              "<Figure size 640x480 with 1 Axes>"
            ],
            "image/png": "[encoded data removed]"
          },
          "metadata": {}
        }
      ]
    },
    {
      "cell_type": "markdown",
      "source": [
        "Estas métricas pueden ayudar a evaluar la calidad de un modelo de regresión lineal y determinar si es adecuado para el conjunto de datos y el problema en cuestión. Es importante tener en cuenta que ninguna métrica por sí sola puede decir si un modelo es adecuado, por lo que se deben considerar varias métricas en conjunto."
      ],
      "metadata": {
        "id": "lhBS_GEpn0Tz"
      }
    }
  ]
}